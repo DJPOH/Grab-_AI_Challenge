{
 "cells": [
  {
   "cell_type": "markdown",
   "metadata": {},
   "source": [
    "## Importation/Combination/Exportation of Features & Label Datasets"
   ]
  },
  {
   "cell_type": "code",
   "execution_count": 1,
   "metadata": {},
   "outputs": [
    {
     "name": "stderr",
     "output_type": "stream",
     "text": [
      "C:\\ProgramData\\Anaconda3\\lib\\site-packages\\sklearn\\externals\\joblib\\__init__.py:15: FutureWarning: sklearn.externals.joblib is deprecated in 0.21 and will be removed in 0.23. Please import this functionality directly from joblib, which can be installed with: pip install joblib. If this warning is raised when loading pickled models, you may need to re-serialize those models with scikit-learn 0.21+.\n",
      "  warnings.warn(msg, category=FutureWarning)\n"
     ]
    }
   ],
   "source": [
    "# Importation Of Relevant Libraries\n",
    "import pandas as pd # Importation of Panda Library\n",
    "import numpy as np # Importation of Numpy Library\n",
    "import matplotlib.pyplot as plt # Importation of Graph Foundations \n",
    "import seaborn as sns # Importation of Seaborn For Fancy Charts\n",
    "sns.set() # Seaborn Defaults For Plot Charting\n",
    "from mpl_toolkits.mplot3d import Axes3D # 3D Visualisation Enabler\n",
    "import datetime\n",
    "import pickle\n",
    "import sklearn\n",
    "from sklearn.externals import joblib \n",
    "from sklearn import preprocessing\n",
    "import statistics\n",
    "dp = preprocessing.LabelEncoder()\n",
    "%matplotlib inline\n",
    "import os"
   ]
  },
  {
   "cell_type": "markdown",
   "metadata": {},
   "source": [
    "Listing of Dataset Files"
   ]
  },
  {
   "cell_type": "code",
   "execution_count": 2,
   "metadata": {},
   "outputs": [],
   "source": [
    "# Consolidation of Feature Dataset File Names\n",
    "featureFileList = os.listdir(\"../Dataset/Features\")\n",
    "\n",
    "# Consolidation of Label Dataset File Names\n",
    "labelFileList = os.listdir(\"../Dataset/Label\")"
   ]
  },
  {
   "cell_type": "code",
   "execution_count": 3,
   "metadata": {},
   "outputs": [
    {
     "name": "stdout",
     "output_type": "stream",
     "text": [
      "['part-00000-e6120af0-10c2-4248-97c4-81baf4304e5c-c000.csv', 'part-00001-e6120af0-10c2-4248-97c4-81baf4304e5c-c000.csv', 'part-00002-e6120af0-10c2-4248-97c4-81baf4304e5c-c000.csv', 'part-00003-e6120af0-10c2-4248-97c4-81baf4304e5c-c000.csv', 'part-00004-e6120af0-10c2-4248-97c4-81baf4304e5c-c000.csv', 'part-00005-e6120af0-10c2-4248-97c4-81baf4304e5c-c000.csv', 'part-00006-e6120af0-10c2-4248-97c4-81baf4304e5c-c000.csv', 'part-00007-e6120af0-10c2-4248-97c4-81baf4304e5c-c000.csv', 'part-00008-e6120af0-10c2-4248-97c4-81baf4304e5c-c000.csv', 'part-00009-e6120af0-10c2-4248-97c4-81baf4304e5c-c000.csv']\n",
      "['part-00000-e9445087-aa0a-433b-a7f6-7f4c19d78ad6-c000 (1).csv']\n"
     ]
    }
   ],
   "source": [
    "print(featureFileList)\n",
    "print(labelFileList)"
   ]
  },
  {
   "cell_type": "markdown",
   "metadata": {},
   "source": [
    "Importation & Combination of Feature Dataset Files"
   ]
  },
  {
   "cell_type": "code",
   "execution_count": 4,
   "metadata": {},
   "outputs": [],
   "source": [
    "# Importation & Combination of Feature Dataset CSV File (Run Once)\n",
    "dataset = pd.DataFrame(columns=['bookingID', 'Accuracy', 'Bearing', 'acceleration_x', 'acceleration_y',\n",
    "       'acceleration_z', 'gyro_x', 'gyro_y', 'gyro_z', 'second', 'Speed'])\n",
    "for i in featureFileList:\n",
    "    incomingdataset = pd.read_csv(\"../Dataset/Features/\" + i)\n",
    "    dataset = pd.concat([dataset, incomingdataset])\n",
    "    \n",
    "# Importation of Label CSV File\n",
    "labeldataset = pd.DataFrame(columns=['bookingID', 'label'])\n",
    "for i in labelFileList:\n",
    "    incomingdataset = pd.read_csv(\"../Dataset/Label/\" + i)\n",
    "    labeldataset = pd.concat([labeldataset, incomingdataset])"
   ]
  },
  {
   "cell_type": "code",
   "execution_count": 5,
   "metadata": {
    "scrolled": true
   },
   "outputs": [
    {
     "name": "stdout",
     "output_type": "stream",
     "text": [
      "<class 'pandas.core.frame.DataFrame'>\n",
      "Int64Index: 16135561 entries, 0 to 1613561\n",
      "Data columns (total 11 columns):\n",
      " #   Column          Dtype  \n",
      "---  ------          -----  \n",
      " 0   bookingID       object \n",
      " 1   Accuracy        float64\n",
      " 2   Bearing         float64\n",
      " 3   acceleration_x  float64\n",
      " 4   acceleration_y  float64\n",
      " 5   acceleration_z  float64\n",
      " 6   gyro_x          float64\n",
      " 7   gyro_y          float64\n",
      " 8   gyro_z          float64\n",
      " 9   second          float64\n",
      " 10  Speed           float64\n",
      "dtypes: float64(10), object(1)\n",
      "memory usage: 1.4+ GB\n"
     ]
    }
   ],
   "source": [
    "dataset.info()"
   ]
  },
  {
   "cell_type": "code",
   "execution_count": 6,
   "metadata": {},
   "outputs": [
    {
     "name": "stdout",
     "output_type": "stream",
     "text": [
      "<class 'pandas.core.frame.DataFrame'>\n",
      "Int64Index: 20018 entries, 0 to 20017\n",
      "Data columns (total 2 columns):\n",
      " #   Column     Non-Null Count  Dtype \n",
      "---  ------     --------------  ----- \n",
      " 0   bookingID  20018 non-null  object\n",
      " 1   label      20018 non-null  object\n",
      "dtypes: object(2)\n",
      "memory usage: 469.2+ KB\n"
     ]
    }
   ],
   "source": [
    "labeldataset.info()"
   ]
  },
  {
   "cell_type": "code",
   "execution_count": 7,
   "metadata": {},
   "outputs": [
    {
     "data": {
      "text/html": [
       "<div>\n",
       "<style scoped>\n",
       "    .dataframe tbody tr th:only-of-type {\n",
       "        vertical-align: middle;\n",
       "    }\n",
       "\n",
       "    .dataframe tbody tr th {\n",
       "        vertical-align: top;\n",
       "    }\n",
       "\n",
       "    .dataframe thead th {\n",
       "        text-align: right;\n",
       "    }\n",
       "</style>\n",
       "<table border=\"1\" class=\"dataframe\">\n",
       "  <thead>\n",
       "    <tr style=\"text-align: right;\">\n",
       "      <th></th>\n",
       "      <th>count</th>\n",
       "      <th>mean</th>\n",
       "      <th>std</th>\n",
       "      <th>min</th>\n",
       "      <th>25%</th>\n",
       "      <th>50%</th>\n",
       "      <th>75%</th>\n",
       "      <th>max</th>\n",
       "    </tr>\n",
       "  </thead>\n",
       "  <tbody>\n",
       "    <tr>\n",
       "      <th>Accuracy</th>\n",
       "      <td>16135561.0</td>\n",
       "      <td>11.610352</td>\n",
       "      <td>8.691672e+01</td>\n",
       "      <td>0.750000</td>\n",
       "      <td>3.900000</td>\n",
       "      <td>4.250000</td>\n",
       "      <td>8.000000</td>\n",
       "      <td>6.070101e+03</td>\n",
       "    </tr>\n",
       "    <tr>\n",
       "      <th>Bearing</th>\n",
       "      <td>16135561.0</td>\n",
       "      <td>168.968356</td>\n",
       "      <td>1.072966e+02</td>\n",
       "      <td>0.000000</td>\n",
       "      <td>78.000000</td>\n",
       "      <td>168.870041</td>\n",
       "      <td>262.984039</td>\n",
       "      <td>3.599995e+02</td>\n",
       "    </tr>\n",
       "    <tr>\n",
       "      <th>acceleration_x</th>\n",
       "      <td>16135561.0</td>\n",
       "      <td>0.069145</td>\n",
       "      <td>1.424161e+00</td>\n",
       "      <td>-78.419685</td>\n",
       "      <td>-0.508124</td>\n",
       "      <td>0.061371</td>\n",
       "      <td>0.635062</td>\n",
       "      <td>6.687346e+01</td>\n",
       "    </tr>\n",
       "    <tr>\n",
       "      <th>acceleration_y</th>\n",
       "      <td>16135561.0</td>\n",
       "      <td>4.468976</td>\n",
       "      <td>8.130664e+00</td>\n",
       "      <td>-72.994119</td>\n",
       "      <td>-2.022476</td>\n",
       "      <td>9.081485</td>\n",
       "      <td>9.709778</td>\n",
       "      <td>7.505589e+01</td>\n",
       "    </tr>\n",
       "    <tr>\n",
       "      <th>acceleration_z</th>\n",
       "      <td>16135561.0</td>\n",
       "      <td>0.894297</td>\n",
       "      <td>3.251549e+00</td>\n",
       "      <td>-78.448420</td>\n",
       "      <td>-0.931610</td>\n",
       "      <td>0.775745</td>\n",
       "      <td>2.750938</td>\n",
       "      <td>7.805576e+01</td>\n",
       "    </tr>\n",
       "    <tr>\n",
       "      <th>gyro_x</th>\n",
       "      <td>16135561.0</td>\n",
       "      <td>-0.001711</td>\n",
       "      <td>1.445619e-01</td>\n",
       "      <td>-48.455750</td>\n",
       "      <td>-0.026789</td>\n",
       "      <td>-0.000643</td>\n",
       "      <td>0.023306</td>\n",
       "      <td>3.983975e+01</td>\n",
       "    </tr>\n",
       "    <tr>\n",
       "      <th>gyro_y</th>\n",
       "      <td>16135561.0</td>\n",
       "      <td>0.000280</td>\n",
       "      <td>3.400630e-01</td>\n",
       "      <td>-74.888610</td>\n",
       "      <td>-0.029939</td>\n",
       "      <td>0.000265</td>\n",
       "      <td>0.031431</td>\n",
       "      <td>8.031496e+01</td>\n",
       "    </tr>\n",
       "    <tr>\n",
       "      <th>gyro_z</th>\n",
       "      <td>16135561.0</td>\n",
       "      <td>-0.000257</td>\n",
       "      <td>1.480824e-01</td>\n",
       "      <td>-53.554450</td>\n",
       "      <td>-0.018765</td>\n",
       "      <td>-0.000035</td>\n",
       "      <td>0.018234</td>\n",
       "      <td>6.630078e+01</td>\n",
       "    </tr>\n",
       "    <tr>\n",
       "      <th>second</th>\n",
       "      <td>16135561.0</td>\n",
       "      <td>3803.484183</td>\n",
       "      <td>1.436686e+06</td>\n",
       "      <td>0.000000</td>\n",
       "      <td>241.000000</td>\n",
       "      <td>520.000000</td>\n",
       "      <td>863.000000</td>\n",
       "      <td>1.495797e+09</td>\n",
       "    </tr>\n",
       "    <tr>\n",
       "      <th>Speed</th>\n",
       "      <td>16135561.0</td>\n",
       "      <td>9.006543</td>\n",
       "      <td>8.106415e+00</td>\n",
       "      <td>-2.000000</td>\n",
       "      <td>1.020000</td>\n",
       "      <td>7.530000</td>\n",
       "      <td>15.480000</td>\n",
       "      <td>1.480186e+02</td>\n",
       "    </tr>\n",
       "  </tbody>\n",
       "</table>\n",
       "</div>"
      ],
      "text/plain": [
       "                     count         mean           std        min         25%  \\\n",
       "Accuracy        16135561.0    11.610352  8.691672e+01   0.750000    3.900000   \n",
       "Bearing         16135561.0   168.968356  1.072966e+02   0.000000   78.000000   \n",
       "acceleration_x  16135561.0     0.069145  1.424161e+00 -78.419685   -0.508124   \n",
       "acceleration_y  16135561.0     4.468976  8.130664e+00 -72.994119   -2.022476   \n",
       "acceleration_z  16135561.0     0.894297  3.251549e+00 -78.448420   -0.931610   \n",
       "gyro_x          16135561.0    -0.001711  1.445619e-01 -48.455750   -0.026789   \n",
       "gyro_y          16135561.0     0.000280  3.400630e-01 -74.888610   -0.029939   \n",
       "gyro_z          16135561.0    -0.000257  1.480824e-01 -53.554450   -0.018765   \n",
       "second          16135561.0  3803.484183  1.436686e+06   0.000000  241.000000   \n",
       "Speed           16135561.0     9.006543  8.106415e+00  -2.000000    1.020000   \n",
       "\n",
       "                       50%         75%           max  \n",
       "Accuracy          4.250000    8.000000  6.070101e+03  \n",
       "Bearing         168.870041  262.984039  3.599995e+02  \n",
       "acceleration_x    0.061371    0.635062  6.687346e+01  \n",
       "acceleration_y    9.081485    9.709778  7.505589e+01  \n",
       "acceleration_z    0.775745    2.750938  7.805576e+01  \n",
       "gyro_x           -0.000643    0.023306  3.983975e+01  \n",
       "gyro_y            0.000265    0.031431  8.031496e+01  \n",
       "gyro_z           -0.000035    0.018234  6.630078e+01  \n",
       "second          520.000000  863.000000  1.495797e+09  \n",
       "Speed             7.530000   15.480000  1.480186e+02  "
      ]
     },
     "execution_count": 7,
     "metadata": {},
     "output_type": "execute_result"
    }
   ],
   "source": [
    "dataset.describe().T"
   ]
  },
  {
   "cell_type": "code",
   "execution_count": 8,
   "metadata": {},
   "outputs": [
    {
     "data": {
      "text/html": [
       "<div>\n",
       "<style scoped>\n",
       "    .dataframe tbody tr th:only-of-type {\n",
       "        vertical-align: middle;\n",
       "    }\n",
       "\n",
       "    .dataframe tbody tr th {\n",
       "        vertical-align: top;\n",
       "    }\n",
       "\n",
       "    .dataframe thead th {\n",
       "        text-align: right;\n",
       "    }\n",
       "</style>\n",
       "<table border=\"1\" class=\"dataframe\">\n",
       "  <thead>\n",
       "    <tr style=\"text-align: right;\">\n",
       "      <th></th>\n",
       "      <th>count</th>\n",
       "      <th>unique</th>\n",
       "      <th>top</th>\n",
       "      <th>freq</th>\n",
       "    </tr>\n",
       "  </thead>\n",
       "  <tbody>\n",
       "    <tr>\n",
       "      <th>bookingID</th>\n",
       "      <td>20018</td>\n",
       "      <td>20000</td>\n",
       "      <td>395136991308</td>\n",
       "      <td>2</td>\n",
       "    </tr>\n",
       "    <tr>\n",
       "      <th>label</th>\n",
       "      <td>20018</td>\n",
       "      <td>2</td>\n",
       "      <td>0</td>\n",
       "      <td>15017</td>\n",
       "    </tr>\n",
       "  </tbody>\n",
       "</table>\n",
       "</div>"
      ],
      "text/plain": [
       "           count  unique           top   freq\n",
       "bookingID  20018   20000  395136991308      2\n",
       "label      20018       2             0  15017"
      ]
     },
     "execution_count": 8,
     "metadata": {},
     "output_type": "execute_result"
    }
   ],
   "source": [
    "labeldataset.describe().T"
   ]
  },
  {
   "cell_type": "code",
   "execution_count": 9,
   "metadata": {},
   "outputs": [
    {
     "data": {
      "text/plain": [
       "bookingID         0\n",
       "Accuracy          0\n",
       "Bearing           0\n",
       "acceleration_x    0\n",
       "acceleration_y    0\n",
       "acceleration_z    0\n",
       "gyro_x            0\n",
       "gyro_y            0\n",
       "gyro_z            0\n",
       "second            0\n",
       "Speed             0\n",
       "dtype: int64"
      ]
     },
     "execution_count": 9,
     "metadata": {},
     "output_type": "execute_result"
    }
   ],
   "source": [
    "# Checking For Null Values\n",
    "dataset.isnull().sum()"
   ]
  },
  {
   "cell_type": "code",
   "execution_count": 10,
   "metadata": {},
   "outputs": [
    {
     "data": {
      "text/plain": [
       "bookingID    0\n",
       "label        0\n",
       "dtype: int64"
      ]
     },
     "execution_count": 10,
     "metadata": {},
     "output_type": "execute_result"
    }
   ],
   "source": [
    "labeldataset.isnull().sum()"
   ]
  },
  {
   "cell_type": "markdown",
   "metadata": {},
   "source": [
    "Combination of Feature Dataset & Label Dataset (Label)"
   ]
  },
  {
   "cell_type": "code",
   "execution_count": 11,
   "metadata": {},
   "outputs": [],
   "source": [
    "# Combination of Feature Dataset & Label Dataset (Label)\n",
    "finaldataset = pd.merge(dataset, labeldataset, on='bookingID')"
   ]
  },
  {
   "cell_type": "code",
   "execution_count": 12,
   "metadata": {},
   "outputs": [
    {
     "data": {
      "text/html": [
       "<div>\n",
       "<style scoped>\n",
       "    .dataframe tbody tr th:only-of-type {\n",
       "        vertical-align: middle;\n",
       "    }\n",
       "\n",
       "    .dataframe tbody tr th {\n",
       "        vertical-align: top;\n",
       "    }\n",
       "\n",
       "    .dataframe thead th {\n",
       "        text-align: right;\n",
       "    }\n",
       "</style>\n",
       "<table border=\"1\" class=\"dataframe\">\n",
       "  <thead>\n",
       "    <tr style=\"text-align: right;\">\n",
       "      <th></th>\n",
       "      <th>bookingID</th>\n",
       "      <th>Accuracy</th>\n",
       "      <th>Bearing</th>\n",
       "      <th>acceleration_x</th>\n",
       "      <th>acceleration_y</th>\n",
       "      <th>acceleration_z</th>\n",
       "      <th>gyro_x</th>\n",
       "      <th>gyro_y</th>\n",
       "      <th>gyro_z</th>\n",
       "      <th>second</th>\n",
       "      <th>Speed</th>\n",
       "      <th>label</th>\n",
       "    </tr>\n",
       "  </thead>\n",
       "  <tbody>\n",
       "    <tr>\n",
       "      <th>0</th>\n",
       "      <td>1202590843006</td>\n",
       "      <td>3.000</td>\n",
       "      <td>353.000000</td>\n",
       "      <td>1.228867</td>\n",
       "      <td>8.900100</td>\n",
       "      <td>3.986968</td>\n",
       "      <td>0.008221</td>\n",
       "      <td>0.002269</td>\n",
       "      <td>-0.009966</td>\n",
       "      <td>1362.0</td>\n",
       "      <td>0.000000</td>\n",
       "      <td>1</td>\n",
       "    </tr>\n",
       "    <tr>\n",
       "      <th>1</th>\n",
       "      <td>1202590843006</td>\n",
       "      <td>3.033</td>\n",
       "      <td>77.000000</td>\n",
       "      <td>1.137217</td>\n",
       "      <td>8.975278</td>\n",
       "      <td>3.981050</td>\n",
       "      <td>0.021118</td>\n",
       "      <td>-0.022515</td>\n",
       "      <td>0.024522</td>\n",
       "      <td>541.0</td>\n",
       "      <td>0.000000</td>\n",
       "      <td>1</td>\n",
       "    </tr>\n",
       "    <tr>\n",
       "      <th>2</th>\n",
       "      <td>1202590843006</td>\n",
       "      <td>6.173</td>\n",
       "      <td>283.000000</td>\n",
       "      <td>1.522818</td>\n",
       "      <td>7.947064</td>\n",
       "      <td>5.075056</td>\n",
       "      <td>0.137567</td>\n",
       "      <td>-0.297055</td>\n",
       "      <td>-0.017418</td>\n",
       "      <td>154.0</td>\n",
       "      <td>2.863286</td>\n",
       "      <td>1</td>\n",
       "    </tr>\n",
       "    <tr>\n",
       "      <th>3</th>\n",
       "      <td>1202590843006</td>\n",
       "      <td>3.014</td>\n",
       "      <td>353.000000</td>\n",
       "      <td>1.134775</td>\n",
       "      <td>8.932489</td>\n",
       "      <td>3.929421</td>\n",
       "      <td>-0.007959</td>\n",
       "      <td>-0.020543</td>\n",
       "      <td>-0.022986</td>\n",
       "      <td>1384.0</td>\n",
       "      <td>0.000000</td>\n",
       "      <td>1</td>\n",
       "    </tr>\n",
       "    <tr>\n",
       "      <th>4</th>\n",
       "      <td>1202590843006</td>\n",
       "      <td>5.209</td>\n",
       "      <td>340.000000</td>\n",
       "      <td>0.858197</td>\n",
       "      <td>9.078037</td>\n",
       "      <td>2.944571</td>\n",
       "      <td>0.061924</td>\n",
       "      <td>0.015219</td>\n",
       "      <td>0.025517</td>\n",
       "      <td>1142.0</td>\n",
       "      <td>9.750134</td>\n",
       "      <td>1</td>\n",
       "    </tr>\n",
       "    <tr>\n",
       "      <th>...</th>\n",
       "      <td>...</td>\n",
       "      <td>...</td>\n",
       "      <td>...</td>\n",
       "      <td>...</td>\n",
       "      <td>...</td>\n",
       "      <td>...</td>\n",
       "      <td>...</td>\n",
       "      <td>...</td>\n",
       "      <td>...</td>\n",
       "      <td>...</td>\n",
       "      <td>...</td>\n",
       "      <td>...</td>\n",
       "    </tr>\n",
       "    <tr>\n",
       "      <th>16154413</th>\n",
       "      <td>317827579936</td>\n",
       "      <td>8.000</td>\n",
       "      <td>115.885414</td>\n",
       "      <td>0.063156</td>\n",
       "      <td>-1.003891</td>\n",
       "      <td>-0.083359</td>\n",
       "      <td>-0.052901</td>\n",
       "      <td>-0.097304</td>\n",
       "      <td>0.041136</td>\n",
       "      <td>27.0</td>\n",
       "      <td>1.392740</td>\n",
       "      <td>1</td>\n",
       "    </tr>\n",
       "    <tr>\n",
       "      <th>16154414</th>\n",
       "      <td>317827579936</td>\n",
       "      <td>8.000</td>\n",
       "      <td>47.230186</td>\n",
       "      <td>-0.197113</td>\n",
       "      <td>-0.981949</td>\n",
       "      <td>-0.101593</td>\n",
       "      <td>0.441228</td>\n",
       "      <td>0.422166</td>\n",
       "      <td>-0.106779</td>\n",
       "      <td>483.0</td>\n",
       "      <td>23.038746</td>\n",
       "      <td>1</td>\n",
       "    </tr>\n",
       "    <tr>\n",
       "      <th>16154415</th>\n",
       "      <td>317827579936</td>\n",
       "      <td>8.000</td>\n",
       "      <td>49.288242</td>\n",
       "      <td>0.115082</td>\n",
       "      <td>-0.999496</td>\n",
       "      <td>-0.358963</td>\n",
       "      <td>0.004464</td>\n",
       "      <td>-0.131621</td>\n",
       "      <td>0.047673</td>\n",
       "      <td>497.0</td>\n",
       "      <td>24.240860</td>\n",
       "      <td>1</td>\n",
       "    </tr>\n",
       "    <tr>\n",
       "      <th>16154416</th>\n",
       "      <td>317827579936</td>\n",
       "      <td>8.000</td>\n",
       "      <td>47.243069</td>\n",
       "      <td>0.029068</td>\n",
       "      <td>-1.013062</td>\n",
       "      <td>-0.033157</td>\n",
       "      <td>-0.071321</td>\n",
       "      <td>0.015111</td>\n",
       "      <td>-0.001533</td>\n",
       "      <td>505.0</td>\n",
       "      <td>12.871749</td>\n",
       "      <td>1</td>\n",
       "    </tr>\n",
       "    <tr>\n",
       "      <th>16154417</th>\n",
       "      <td>317827579936</td>\n",
       "      <td>8.000</td>\n",
       "      <td>48.221123</td>\n",
       "      <td>-0.175720</td>\n",
       "      <td>-1.037399</td>\n",
       "      <td>-0.027359</td>\n",
       "      <td>-0.142845</td>\n",
       "      <td>-0.142191</td>\n",
       "      <td>0.072906</td>\n",
       "      <td>469.0</td>\n",
       "      <td>22.391354</td>\n",
       "      <td>1</td>\n",
       "    </tr>\n",
       "  </tbody>\n",
       "</table>\n",
       "<p>16154418 rows × 12 columns</p>\n",
       "</div>"
      ],
      "text/plain": [
       "              bookingID  Accuracy     Bearing  acceleration_x  acceleration_y  \\\n",
       "0         1202590843006     3.000  353.000000        1.228867        8.900100   \n",
       "1         1202590843006     3.033   77.000000        1.137217        8.975278   \n",
       "2         1202590843006     6.173  283.000000        1.522818        7.947064   \n",
       "3         1202590843006     3.014  353.000000        1.134775        8.932489   \n",
       "4         1202590843006     5.209  340.000000        0.858197        9.078037   \n",
       "...                 ...       ...         ...             ...             ...   \n",
       "16154413   317827579936     8.000  115.885414        0.063156       -1.003891   \n",
       "16154414   317827579936     8.000   47.230186       -0.197113       -0.981949   \n",
       "16154415   317827579936     8.000   49.288242        0.115082       -0.999496   \n",
       "16154416   317827579936     8.000   47.243069        0.029068       -1.013062   \n",
       "16154417   317827579936     8.000   48.221123       -0.175720       -1.037399   \n",
       "\n",
       "          acceleration_z    gyro_x    gyro_y    gyro_z  second      Speed  \\\n",
       "0               3.986968  0.008221  0.002269 -0.009966  1362.0   0.000000   \n",
       "1               3.981050  0.021118 -0.022515  0.024522   541.0   0.000000   \n",
       "2               5.075056  0.137567 -0.297055 -0.017418   154.0   2.863286   \n",
       "3               3.929421 -0.007959 -0.020543 -0.022986  1384.0   0.000000   \n",
       "4               2.944571  0.061924  0.015219  0.025517  1142.0   9.750134   \n",
       "...                  ...       ...       ...       ...     ...        ...   \n",
       "16154413       -0.083359 -0.052901 -0.097304  0.041136    27.0   1.392740   \n",
       "16154414       -0.101593  0.441228  0.422166 -0.106779   483.0  23.038746   \n",
       "16154415       -0.358963  0.004464 -0.131621  0.047673   497.0  24.240860   \n",
       "16154416       -0.033157 -0.071321  0.015111 -0.001533   505.0  12.871749   \n",
       "16154417       -0.027359 -0.142845 -0.142191  0.072906   469.0  22.391354   \n",
       "\n",
       "         label  \n",
       "0            1  \n",
       "1            1  \n",
       "2            1  \n",
       "3            1  \n",
       "4            1  \n",
       "...        ...  \n",
       "16154413     1  \n",
       "16154414     1  \n",
       "16154415     1  \n",
       "16154416     1  \n",
       "16154417     1  \n",
       "\n",
       "[16154418 rows x 12 columns]"
      ]
     },
     "execution_count": 12,
     "metadata": {},
     "output_type": "execute_result"
    }
   ],
   "source": [
    "finaldataset"
   ]
  },
  {
   "cell_type": "markdown",
   "metadata": {},
   "source": [
    "Exportation of Final Dataset"
   ]
  },
  {
   "cell_type": "code",
   "execution_count": 13,
   "metadata": {},
   "outputs": [],
   "source": [
    "#----------------------EXPORTATION OF FINAL DATASET-------------------------\n",
    "# Exportation of Final Dataset (EXPORT FINAL DATASET)\n",
    "#finaldataset.to_csv(\"../Dataset/finalDataset.csv\", header=True, index=False)"
   ]
  },
  {
   "cell_type": "markdown",
   "metadata": {},
   "source": [
    "## Importation of Final Dataset"
   ]
  },
  {
   "cell_type": "code",
   "execution_count": 14,
   "metadata": {},
   "outputs": [],
   "source": [
    "#----------------------IMPORTATION AND LOADING OF DATA-------------------------\n",
    "#dataset = pd.read_csv('../Dataset/finalDataset.csv', skipinitialspace=True)"
   ]
  },
  {
   "cell_type": "code",
   "execution_count": 15,
   "metadata": {
    "scrolled": false
   },
   "outputs": [
    {
     "data": {
      "text/html": [
       "<div>\n",
       "<style scoped>\n",
       "    .dataframe tbody tr th:only-of-type {\n",
       "        vertical-align: middle;\n",
       "    }\n",
       "\n",
       "    .dataframe tbody tr th {\n",
       "        vertical-align: top;\n",
       "    }\n",
       "\n",
       "    .dataframe thead th {\n",
       "        text-align: right;\n",
       "    }\n",
       "</style>\n",
       "<table border=\"1\" class=\"dataframe\">\n",
       "  <thead>\n",
       "    <tr style=\"text-align: right;\">\n",
       "      <th></th>\n",
       "      <th>bookingID</th>\n",
       "      <th>Accuracy</th>\n",
       "      <th>Bearing</th>\n",
       "      <th>acceleration_x</th>\n",
       "      <th>acceleration_y</th>\n",
       "      <th>acceleration_z</th>\n",
       "      <th>gyro_x</th>\n",
       "      <th>gyro_y</th>\n",
       "      <th>gyro_z</th>\n",
       "      <th>second</th>\n",
       "      <th>Speed</th>\n",
       "      <th>label</th>\n",
       "    </tr>\n",
       "  </thead>\n",
       "  <tbody>\n",
       "    <tr>\n",
       "      <th>0</th>\n",
       "      <td>1202590843006</td>\n",
       "      <td>3.000</td>\n",
       "      <td>353.000000</td>\n",
       "      <td>1.228867</td>\n",
       "      <td>8.900100</td>\n",
       "      <td>3.986968</td>\n",
       "      <td>0.008221</td>\n",
       "      <td>0.002269</td>\n",
       "      <td>-0.009966</td>\n",
       "      <td>1362.0</td>\n",
       "      <td>0.000000</td>\n",
       "      <td>1</td>\n",
       "    </tr>\n",
       "    <tr>\n",
       "      <th>1</th>\n",
       "      <td>1202590843006</td>\n",
       "      <td>3.033</td>\n",
       "      <td>77.000000</td>\n",
       "      <td>1.137217</td>\n",
       "      <td>8.975278</td>\n",
       "      <td>3.981050</td>\n",
       "      <td>0.021118</td>\n",
       "      <td>-0.022515</td>\n",
       "      <td>0.024522</td>\n",
       "      <td>541.0</td>\n",
       "      <td>0.000000</td>\n",
       "      <td>1</td>\n",
       "    </tr>\n",
       "    <tr>\n",
       "      <th>2</th>\n",
       "      <td>1202590843006</td>\n",
       "      <td>6.173</td>\n",
       "      <td>283.000000</td>\n",
       "      <td>1.522818</td>\n",
       "      <td>7.947064</td>\n",
       "      <td>5.075056</td>\n",
       "      <td>0.137567</td>\n",
       "      <td>-0.297055</td>\n",
       "      <td>-0.017418</td>\n",
       "      <td>154.0</td>\n",
       "      <td>2.863286</td>\n",
       "      <td>1</td>\n",
       "    </tr>\n",
       "    <tr>\n",
       "      <th>3</th>\n",
       "      <td>1202590843006</td>\n",
       "      <td>3.014</td>\n",
       "      <td>353.000000</td>\n",
       "      <td>1.134775</td>\n",
       "      <td>8.932489</td>\n",
       "      <td>3.929421</td>\n",
       "      <td>-0.007959</td>\n",
       "      <td>-0.020543</td>\n",
       "      <td>-0.022986</td>\n",
       "      <td>1384.0</td>\n",
       "      <td>0.000000</td>\n",
       "      <td>1</td>\n",
       "    </tr>\n",
       "    <tr>\n",
       "      <th>4</th>\n",
       "      <td>1202590843006</td>\n",
       "      <td>5.209</td>\n",
       "      <td>340.000000</td>\n",
       "      <td>0.858197</td>\n",
       "      <td>9.078037</td>\n",
       "      <td>2.944571</td>\n",
       "      <td>0.061924</td>\n",
       "      <td>0.015219</td>\n",
       "      <td>0.025517</td>\n",
       "      <td>1142.0</td>\n",
       "      <td>9.750134</td>\n",
       "      <td>1</td>\n",
       "    </tr>\n",
       "    <tr>\n",
       "      <th>...</th>\n",
       "      <td>...</td>\n",
       "      <td>...</td>\n",
       "      <td>...</td>\n",
       "      <td>...</td>\n",
       "      <td>...</td>\n",
       "      <td>...</td>\n",
       "      <td>...</td>\n",
       "      <td>...</td>\n",
       "      <td>...</td>\n",
       "      <td>...</td>\n",
       "      <td>...</td>\n",
       "      <td>...</td>\n",
       "    </tr>\n",
       "    <tr>\n",
       "      <th>16154413</th>\n",
       "      <td>317827579936</td>\n",
       "      <td>8.000</td>\n",
       "      <td>115.885414</td>\n",
       "      <td>0.063156</td>\n",
       "      <td>-1.003891</td>\n",
       "      <td>-0.083359</td>\n",
       "      <td>-0.052901</td>\n",
       "      <td>-0.097304</td>\n",
       "      <td>0.041136</td>\n",
       "      <td>27.0</td>\n",
       "      <td>1.392740</td>\n",
       "      <td>1</td>\n",
       "    </tr>\n",
       "    <tr>\n",
       "      <th>16154414</th>\n",
       "      <td>317827579936</td>\n",
       "      <td>8.000</td>\n",
       "      <td>47.230186</td>\n",
       "      <td>-0.197113</td>\n",
       "      <td>-0.981949</td>\n",
       "      <td>-0.101593</td>\n",
       "      <td>0.441228</td>\n",
       "      <td>0.422166</td>\n",
       "      <td>-0.106779</td>\n",
       "      <td>483.0</td>\n",
       "      <td>23.038746</td>\n",
       "      <td>1</td>\n",
       "    </tr>\n",
       "    <tr>\n",
       "      <th>16154415</th>\n",
       "      <td>317827579936</td>\n",
       "      <td>8.000</td>\n",
       "      <td>49.288242</td>\n",
       "      <td>0.115082</td>\n",
       "      <td>-0.999496</td>\n",
       "      <td>-0.358963</td>\n",
       "      <td>0.004464</td>\n",
       "      <td>-0.131621</td>\n",
       "      <td>0.047673</td>\n",
       "      <td>497.0</td>\n",
       "      <td>24.240860</td>\n",
       "      <td>1</td>\n",
       "    </tr>\n",
       "    <tr>\n",
       "      <th>16154416</th>\n",
       "      <td>317827579936</td>\n",
       "      <td>8.000</td>\n",
       "      <td>47.243069</td>\n",
       "      <td>0.029068</td>\n",
       "      <td>-1.013062</td>\n",
       "      <td>-0.033157</td>\n",
       "      <td>-0.071321</td>\n",
       "      <td>0.015111</td>\n",
       "      <td>-0.001533</td>\n",
       "      <td>505.0</td>\n",
       "      <td>12.871749</td>\n",
       "      <td>1</td>\n",
       "    </tr>\n",
       "    <tr>\n",
       "      <th>16154417</th>\n",
       "      <td>317827579936</td>\n",
       "      <td>8.000</td>\n",
       "      <td>48.221123</td>\n",
       "      <td>-0.175720</td>\n",
       "      <td>-1.037399</td>\n",
       "      <td>-0.027359</td>\n",
       "      <td>-0.142845</td>\n",
       "      <td>-0.142191</td>\n",
       "      <td>0.072906</td>\n",
       "      <td>469.0</td>\n",
       "      <td>22.391354</td>\n",
       "      <td>1</td>\n",
       "    </tr>\n",
       "  </tbody>\n",
       "</table>\n",
       "<p>16154418 rows × 12 columns</p>\n",
       "</div>"
      ],
      "text/plain": [
       "              bookingID  Accuracy     Bearing  acceleration_x  acceleration_y  \\\n",
       "0         1202590843006     3.000  353.000000        1.228867        8.900100   \n",
       "1         1202590843006     3.033   77.000000        1.137217        8.975278   \n",
       "2         1202590843006     6.173  283.000000        1.522818        7.947064   \n",
       "3         1202590843006     3.014  353.000000        1.134775        8.932489   \n",
       "4         1202590843006     5.209  340.000000        0.858197        9.078037   \n",
       "...                 ...       ...         ...             ...             ...   \n",
       "16154413   317827579936     8.000  115.885414        0.063156       -1.003891   \n",
       "16154414   317827579936     8.000   47.230186       -0.197113       -0.981949   \n",
       "16154415   317827579936     8.000   49.288242        0.115082       -0.999496   \n",
       "16154416   317827579936     8.000   47.243069        0.029068       -1.013062   \n",
       "16154417   317827579936     8.000   48.221123       -0.175720       -1.037399   \n",
       "\n",
       "          acceleration_z    gyro_x    gyro_y    gyro_z  second      Speed  \\\n",
       "0               3.986968  0.008221  0.002269 -0.009966  1362.0   0.000000   \n",
       "1               3.981050  0.021118 -0.022515  0.024522   541.0   0.000000   \n",
       "2               5.075056  0.137567 -0.297055 -0.017418   154.0   2.863286   \n",
       "3               3.929421 -0.007959 -0.020543 -0.022986  1384.0   0.000000   \n",
       "4               2.944571  0.061924  0.015219  0.025517  1142.0   9.750134   \n",
       "...                  ...       ...       ...       ...     ...        ...   \n",
       "16154413       -0.083359 -0.052901 -0.097304  0.041136    27.0   1.392740   \n",
       "16154414       -0.101593  0.441228  0.422166 -0.106779   483.0  23.038746   \n",
       "16154415       -0.358963  0.004464 -0.131621  0.047673   497.0  24.240860   \n",
       "16154416       -0.033157 -0.071321  0.015111 -0.001533   505.0  12.871749   \n",
       "16154417       -0.027359 -0.142845 -0.142191  0.072906   469.0  22.391354   \n",
       "\n",
       "          label  \n",
       "0             1  \n",
       "1             1  \n",
       "2             1  \n",
       "3             1  \n",
       "4             1  \n",
       "...         ...  \n",
       "16154413      1  \n",
       "16154414      1  \n",
       "16154415      1  \n",
       "16154416      1  \n",
       "16154417      1  \n",
       "\n",
       "[16154418 rows x 12 columns]"
      ]
     },
     "execution_count": 15,
     "metadata": {},
     "output_type": "execute_result"
    }
   ],
   "source": [
    "dataset"
   ]
  },
  {
   "cell_type": "markdown",
   "metadata": {},
   "source": [
    "## Aggregation of Data"
   ]
  },
  {
   "cell_type": "code",
   "execution_count": 16,
   "metadata": {
    "scrolled": true
   },
   "outputs": [],
   "source": [
    "dataset = dataset.groupby(['bookingID'],as_index=False)\n",
    "holder1= dataset.agg({'second' : np.max})\n",
    "dataset = dataset.mean()\n",
    "dataset=dataset.drop(['second'], axis=1)\n",
    "dataset = pd.merge(dataset,holder1,on='bookingID')"
   ]
  },
  {
   "cell_type": "code",
   "execution_count": 17,
   "metadata": {},
   "outputs": [],
   "source": [
    "dataset = dataset[dataset['label'] != 0.5]"
   ]
  },
  {
   "cell_type": "code",
   "execution_count": 18,
   "metadata": {},
   "outputs": [],
   "source": [
    "X = dataset.drop(columns=['label', 'bookingID', 'Accuracy'], axis = 1)"
   ]
  },
  {
   "cell_type": "code",
   "execution_count": 19,
   "metadata": {},
   "outputs": [],
   "source": [
    "y = dataset['label']"
   ]
  },
  {
   "cell_type": "code",
   "execution_count": 20,
   "metadata": {},
   "outputs": [
    {
     "data": {
      "text/html": [
       "<div>\n",
       "<style scoped>\n",
       "    .dataframe tbody tr th:only-of-type {\n",
       "        vertical-align: middle;\n",
       "    }\n",
       "\n",
       "    .dataframe tbody tr th {\n",
       "        vertical-align: top;\n",
       "    }\n",
       "\n",
       "    .dataframe thead th {\n",
       "        text-align: right;\n",
       "    }\n",
       "</style>\n",
       "<table border=\"1\" class=\"dataframe\">\n",
       "  <thead>\n",
       "    <tr style=\"text-align: right;\">\n",
       "      <th></th>\n",
       "      <th>Bearing</th>\n",
       "      <th>acceleration_x</th>\n",
       "      <th>acceleration_y</th>\n",
       "      <th>acceleration_z</th>\n",
       "      <th>gyro_x</th>\n",
       "      <th>gyro_y</th>\n",
       "      <th>gyro_z</th>\n",
       "      <th>Speed</th>\n",
       "      <th>second</th>\n",
       "    </tr>\n",
       "  </thead>\n",
       "  <tbody>\n",
       "    <tr>\n",
       "      <th>0</th>\n",
       "      <td>176.526099</td>\n",
       "      <td>-0.711264</td>\n",
       "      <td>-9.613822</td>\n",
       "      <td>-1.619658</td>\n",
       "      <td>0.003328</td>\n",
       "      <td>-0.006118</td>\n",
       "      <td>-0.004188</td>\n",
       "      <td>8.994822</td>\n",
       "      <td>1589.0</td>\n",
       "    </tr>\n",
       "    <tr>\n",
       "      <th>1</th>\n",
       "      <td>124.198590</td>\n",
       "      <td>-0.525406</td>\n",
       "      <td>9.532086</td>\n",
       "      <td>-2.198999</td>\n",
       "      <td>-0.002467</td>\n",
       "      <td>-0.007540</td>\n",
       "      <td>0.000405</td>\n",
       "      <td>7.881588</td>\n",
       "      <td>1034.0</td>\n",
       "    </tr>\n",
       "    <tr>\n",
       "      <th>2</th>\n",
       "      <td>173.794872</td>\n",
       "      <td>0.306786</td>\n",
       "      <td>9.843183</td>\n",
       "      <td>0.139347</td>\n",
       "      <td>0.006458</td>\n",
       "      <td>-0.012861</td>\n",
       "      <td>0.002597</td>\n",
       "      <td>3.157213</td>\n",
       "      <td>825.0</td>\n",
       "    </tr>\n",
       "    <tr>\n",
       "      <th>3</th>\n",
       "      <td>151.807013</td>\n",
       "      <td>-0.365117</td>\n",
       "      <td>-9.406439</td>\n",
       "      <td>-2.613639</td>\n",
       "      <td>-0.022884</td>\n",
       "      <td>0.023232</td>\n",
       "      <td>-0.000376</td>\n",
       "      <td>6.150996</td>\n",
       "      <td>1094.0</td>\n",
       "    </tr>\n",
       "    <tr>\n",
       "      <th>4</th>\n",
       "      <td>197.812785</td>\n",
       "      <td>0.490616</td>\n",
       "      <td>9.538043</td>\n",
       "      <td>2.355059</td>\n",
       "      <td>0.003877</td>\n",
       "      <td>0.000436</td>\n",
       "      <td>0.002930</td>\n",
       "      <td>4.628921</td>\n",
       "      <td>1094.0</td>\n",
       "    </tr>\n",
       "    <tr>\n",
       "      <th>...</th>\n",
       "      <td>...</td>\n",
       "      <td>...</td>\n",
       "      <td>...</td>\n",
       "      <td>...</td>\n",
       "      <td>...</td>\n",
       "      <td>...</td>\n",
       "      <td>...</td>\n",
       "      <td>...</td>\n",
       "      <td>...</td>\n",
       "    </tr>\n",
       "    <tr>\n",
       "      <th>19995</th>\n",
       "      <td>169.904096</td>\n",
       "      <td>0.094130</td>\n",
       "      <td>1.860878</td>\n",
       "      <td>9.668742</td>\n",
       "      <td>0.006799</td>\n",
       "      <td>-0.008030</td>\n",
       "      <td>-0.003830</td>\n",
       "      <td>2.305969</td>\n",
       "      <td>1153.0</td>\n",
       "    </tr>\n",
       "    <tr>\n",
       "      <th>19996</th>\n",
       "      <td>179.182557</td>\n",
       "      <td>0.625696</td>\n",
       "      <td>-8.680648</td>\n",
       "      <td>-4.512526</td>\n",
       "      <td>-0.016472</td>\n",
       "      <td>0.006266</td>\n",
       "      <td>-0.001241</td>\n",
       "      <td>7.611645</td>\n",
       "      <td>809.0</td>\n",
       "    </tr>\n",
       "    <tr>\n",
       "      <th>19997</th>\n",
       "      <td>198.738462</td>\n",
       "      <td>-0.208879</td>\n",
       "      <td>9.072497</td>\n",
       "      <td>3.319529</td>\n",
       "      <td>0.000408</td>\n",
       "      <td>0.000600</td>\n",
       "      <td>0.001489</td>\n",
       "      <td>12.718705</td>\n",
       "      <td>989.0</td>\n",
       "    </tr>\n",
       "    <tr>\n",
       "      <th>19998</th>\n",
       "      <td>204.802228</td>\n",
       "      <td>0.669512</td>\n",
       "      <td>8.896987</td>\n",
       "      <td>3.759712</td>\n",
       "      <td>0.003282</td>\n",
       "      <td>-0.000685</td>\n",
       "      <td>-0.000242</td>\n",
       "      <td>6.245733</td>\n",
       "      <td>1079.0</td>\n",
       "    </tr>\n",
       "    <tr>\n",
       "      <th>19999</th>\n",
       "      <td>109.359487</td>\n",
       "      <td>-0.268023</td>\n",
       "      <td>-8.915330</td>\n",
       "      <td>-4.021515</td>\n",
       "      <td>-0.005674</td>\n",
       "      <td>0.012661</td>\n",
       "      <td>0.001503</td>\n",
       "      <td>4.400441</td>\n",
       "      <td>563.0</td>\n",
       "    </tr>\n",
       "  </tbody>\n",
       "</table>\n",
       "<p>19982 rows × 9 columns</p>\n",
       "</div>"
      ],
      "text/plain": [
       "          Bearing  acceleration_x  acceleration_y  acceleration_z    gyro_x  \\\n",
       "0      176.526099       -0.711264       -9.613822       -1.619658  0.003328   \n",
       "1      124.198590       -0.525406        9.532086       -2.198999 -0.002467   \n",
       "2      173.794872        0.306786        9.843183        0.139347  0.006458   \n",
       "3      151.807013       -0.365117       -9.406439       -2.613639 -0.022884   \n",
       "4      197.812785        0.490616        9.538043        2.355059  0.003877   \n",
       "...           ...             ...             ...             ...       ...   \n",
       "19995  169.904096        0.094130        1.860878        9.668742  0.006799   \n",
       "19996  179.182557        0.625696       -8.680648       -4.512526 -0.016472   \n",
       "19997  198.738462       -0.208879        9.072497        3.319529  0.000408   \n",
       "19998  204.802228        0.669512        8.896987        3.759712  0.003282   \n",
       "19999  109.359487       -0.268023       -8.915330       -4.021515 -0.005674   \n",
       "\n",
       "         gyro_y    gyro_z      Speed  second  \n",
       "0     -0.006118 -0.004188   8.994822  1589.0  \n",
       "1     -0.007540  0.000405   7.881588  1034.0  \n",
       "2     -0.012861  0.002597   3.157213   825.0  \n",
       "3      0.023232 -0.000376   6.150996  1094.0  \n",
       "4      0.000436  0.002930   4.628921  1094.0  \n",
       "...         ...       ...        ...     ...  \n",
       "19995 -0.008030 -0.003830   2.305969  1153.0  \n",
       "19996  0.006266 -0.001241   7.611645   809.0  \n",
       "19997  0.000600  0.001489  12.718705   989.0  \n",
       "19998 -0.000685 -0.000242   6.245733  1079.0  \n",
       "19999  0.012661  0.001503   4.400441   563.0  \n",
       "\n",
       "[19982 rows x 9 columns]"
      ]
     },
     "execution_count": 20,
     "metadata": {},
     "output_type": "execute_result"
    }
   ],
   "source": [
    "X"
   ]
  },
  {
   "cell_type": "code",
   "execution_count": 21,
   "metadata": {},
   "outputs": [
    {
     "data": {
      "text/plain": [
       "0        0.0\n",
       "1        1.0\n",
       "2        1.0\n",
       "3        1.0\n",
       "4        0.0\n",
       "        ... \n",
       "19995    1.0\n",
       "19996    1.0\n",
       "19997    1.0\n",
       "19998    1.0\n",
       "19999    1.0\n",
       "Name: label, Length: 19982, dtype: float64"
      ]
     },
     "execution_count": 21,
     "metadata": {},
     "output_type": "execute_result"
    }
   ],
   "source": [
    "y"
   ]
  },
  {
   "cell_type": "markdown",
   "metadata": {},
   "source": [
    "## Splitting of Dataset For Machine Learning Process"
   ]
  },
  {
   "cell_type": "code",
   "execution_count": 22,
   "metadata": {},
   "outputs": [],
   "source": [
    "#---------------------------Splitting of Data----------------------------------\n",
    "# Importation Model Selection Libraries\n",
    "from sklearn.model_selection import train_test_split"
   ]
  },
  {
   "cell_type": "code",
   "execution_count": 23,
   "metadata": {},
   "outputs": [],
   "source": [
    "# Splitting and Allocation of Training and Test Data For Weak Model\n",
    "X_train, X_test, y_train, y_test = train_test_split(X, y, test_size=0.20,random_state=3)"
   ]
  },
  {
   "cell_type": "markdown",
   "metadata": {},
   "source": [
    "## Machine Model Model"
   ]
  },
  {
   "cell_type": "code",
   "execution_count": 24,
   "metadata": {},
   "outputs": [],
   "source": [
    "#------------------------------------------------------------------------------\n",
    "# MODEL DEVELOPMENT\n",
    "# Importation of Algorithm\n",
    "from sklearn.metrics import accuracy_score, log_loss\n",
    "from sklearn.neighbors import KNeighborsClassifier\n",
    "from sklearn import svm\n",
    "from sklearn.ensemble import RandomForestClassifier\n",
    "from sklearn.linear_model import SGDClassifier\n",
    "# from sklearn.preprocessing import StandardScaler\n",
    "# from sklearn.pipeline import make_pipeline\n",
    "#from sklearn.kernel_approximation import RBFSampler\n",
    "from sklearn.neural_network import MLPClassifier\n",
    "from sklearn.svm import SVC, LinearSVC, NuSVC\n",
    "from sklearn.tree import DecisionTreeClassifier\n",
    "from sklearn.ensemble import RandomForestClassifier, AdaBoostClassifier, GradientBoostingClassifier\n",
    "from sklearn.naive_bayes import GaussianNB\n",
    "from sklearn.discriminant_analysis import LinearDiscriminantAnalysis\n",
    "from sklearn.discriminant_analysis import QuadraticDiscriminantAnalysis"
   ]
  },
  {
   "cell_type": "code",
   "execution_count": 25,
   "metadata": {},
   "outputs": [
    {
     "name": "stdout",
     "output_type": "stream",
     "text": [
      "==============================\n",
      "KNeighborsClassifier\n",
      "****Results****\n",
      "Accuracy: 71.5036%\n",
      "Log Loss: 3.892876232220819\n",
      "==============================\n",
      "SVC\n",
      "****Results****\n",
      "Accuracy: 75.4566%\n",
      "Log Loss: 0.557328888718321\n",
      "==============================\n",
      "DecisionTreeClassifier\n",
      "****Results****\n",
      "Accuracy: 67.0253%\n",
      "Log Loss: 11.389068623590761\n",
      "==============================\n",
      "RandomForestClassifier\n",
      "****Results****\n",
      "Accuracy: 77.5331%\n",
      "Log Loss: 0.5119183169756745\n",
      "==============================\n",
      "AdaBoostClassifier\n",
      "****Results****\n",
      "Accuracy: 77.6082%\n",
      "Log Loss: 0.6821781583103684\n",
      "==============================\n",
      "GradientBoostingClassifier\n",
      "****Results****\n",
      "Accuracy: 77.7333%\n",
      "Log Loss: 0.49214143598140914\n",
      "==============================\n",
      "GaussianNB\n",
      "****Results****\n",
      "Accuracy: 24.5434%\n",
      "Log Loss: 6.573238506596177\n",
      "==============================\n",
      "LinearDiscriminantAnalysis\n",
      "****Results****\n",
      "Accuracy: 75.4566%\n",
      "Log Loss: 0.5518607982228403\n",
      "==============================\n",
      "QuadraticDiscriminantAnalysis\n",
      "****Results****\n",
      "Accuracy: 24.6435%\n",
      "Log Loss: 5.137879315581971\n",
      "==============================\n"
     ]
    }
   ],
   "source": [
    "classifiers = [\n",
    "    KNeighborsClassifier(3),\n",
    "    SVC(kernel=\"rbf\", C=0.025, probability=True),\n",
    "    DecisionTreeClassifier(),\n",
    "    RandomForestClassifier(),\n",
    "    AdaBoostClassifier(),\n",
    "    GradientBoostingClassifier(),\n",
    "    GaussianNB(),\n",
    "    LinearDiscriminantAnalysis(),\n",
    "    QuadraticDiscriminantAnalysis()]\n",
    "\n",
    "# Logging for Visual Comparison\n",
    "log_cols=[\"Classifier\", \"Accuracy\", \"Log Loss\"]\n",
    "log = pd.DataFrame(columns=log_cols)\n",
    "\n",
    "for clf in classifiers:\n",
    "    clf.fit(X_train, y_train)\n",
    "    name = clf.__class__.__name__\n",
    "    \n",
    "    print(\"=\"*30)\n",
    "    print(name)\n",
    "    \n",
    "    print('****Results****')\n",
    "    train_predictions = clf.predict(X_test)\n",
    "    acc = accuracy_score(y_test, train_predictions)\n",
    "    print(\"Accuracy: {:.4%}\".format(acc))\n",
    "    \n",
    "    train_predictions = clf.predict_proba(X_test)\n",
    "    ll = log_loss(y_test, train_predictions)\n",
    "    print(\"Log Loss: {}\".format(ll))\n",
    "    \n",
    "    log_entry = pd.DataFrame([[name, acc*100, ll]], columns=log_cols)\n",
    "    log = log.append(log_entry)\n",
    "    \n",
    "print(\"=\"*30)"
   ]
  },
  {
   "cell_type": "code",
   "execution_count": 26,
   "metadata": {},
   "outputs": [
    {
     "data": {
      "image/png": "[encoded data removed]",
      "text/plain": [
       "<Figure size 432x288 with 1 Axes>"
      ]
     },
     "metadata": {
      "needs_background": "light"
     },
     "output_type": "display_data"
    },
    {
     "data": {
      "image/png": "[encoded data removed]",
      "text/plain": [
       "<Figure size 432x288 with 1 Axes>"
      ]
     },
     "metadata": {
      "needs_background": "light"
     },
     "output_type": "display_data"
    }
   ],
   "source": [
    "sns.set_color_codes(\"muted\")\n",
    "sns.barplot(x='Accuracy', y='Classifier', data=log, color=\"b\")\n",
    "\n",
    "plt.xlabel('Accuracy %')\n",
    "plt.title('Classifier Accuracy')\n",
    "plt.show()\n",
    "\n",
    "sns.set_color_codes(\"muted\")\n",
    "sns.barplot(x='Log Loss', y='Classifier', data=log, color=\"g\")\n",
    "\n",
    "plt.xlabel('Log Loss')\n",
    "plt.title('Classifier Log Loss')\n",
    "plt.show()"
   ]
  },
  {
   "cell_type": "markdown",
   "metadata": {},
   "source": [
    "## Importation of Scoring Metrics"
   ]
  },
  {
   "cell_type": "code",
   "execution_count": 27,
   "metadata": {},
   "outputs": [],
   "source": [
    "#------------------------------------------------------------------------------\n",
    "# Importation of Scoring Metrics\n",
    "from sklearn.metrics import confusion_matrix, accuracy_score, classification_report, roc_auc_score\n",
    "from sklearn import metrics"
   ]
  },
  {
   "cell_type": "code",
   "execution_count": 28,
   "metadata": {},
   "outputs": [],
   "source": [
    "#------------------------------------------------------------------------------\n",
    "# Instantiation of Model\n",
    "machineModel = RandomForestClassifier()\n",
    "#clf = GradientBoostingClassifier()\n",
    "#clf = svm.SVC(kernel='rbf', C=0.025)\n",
    "#clf = MLPClassifier(solver='adam', alpha=0.001,hidden_layer_sizes=(100,))"
   ]
  },
  {
   "cell_type": "markdown",
   "metadata": {},
   "source": [
    "## Machine Model Prediction"
   ]
  },
  {
   "cell_type": "code",
   "execution_count": 29,
   "metadata": {
    "scrolled": false
   },
   "outputs": [
    {
     "data": {
      "text/plain": [
       "RandomForestClassifier(bootstrap=True, ccp_alpha=0.0, class_weight=None,\n",
       "                       criterion='gini', max_depth=None, max_features='auto',\n",
       "                       max_leaf_nodes=None, max_samples=None,\n",
       "                       min_impurity_decrease=0.0, min_impurity_split=None,\n",
       "                       min_samples_leaf=1, min_samples_split=2,\n",
       "                       min_weight_fraction_leaf=0.0, n_estimators=100,\n",
       "                       n_jobs=None, oob_score=False, random_state=None,\n",
       "                       verbose=0, warm_start=False)"
      ]
     },
     "execution_count": 29,
     "metadata": {},
     "output_type": "execute_result"
    }
   ],
   "source": [
    "# SVM Model Fitting\n",
    "machineModel.fit(X_train, y_train)"
   ]
  },
  {
   "cell_type": "code",
   "execution_count": 30,
   "metadata": {},
   "outputs": [],
   "source": [
    "# SVM Model Prediction\n",
    "y_hat = machineModel.predict(X_test)"
   ]
  },
  {
   "cell_type": "markdown",
   "metadata": {},
   "source": [
    "## Scoring of Model"
   ]
  },
  {
   "cell_type": "code",
   "execution_count": 31,
   "metadata": {},
   "outputs": [
    {
     "name": "stdout",
     "output_type": "stream",
     "text": [
      "Precision of Weak Model =  0.6234939759036144\n",
      "Recall of Weak Model =  0.21100917431192662\n",
      "fbeta_score of Weak Model =  0.3153084539223153\n",
      "Support of Weak Model =  981\n",
      "Accuracy of Weak Random Forest Model 77.51\n"
     ]
    }
   ],
   "source": [
    "# Scoring of Support Vector Model\n",
    "precision, recall, fbeta_score, support = metrics.precision_recall_fscore_support(y_test, y_hat)\n",
    "print(\"Precision of Weak Model = \", precision[1])\n",
    "print(\"Recall of Weak Model = \", recall[1])\n",
    "print(\"fbeta_score of Weak Model = \", fbeta_score[1])\n",
    "print(\"Support of Weak Model = \", support[1])\n",
    "print('Accuracy of Weak Random Forest Model', round(accuracy_score(y_test, y_hat) * 100, 2))"
   ]
  },
  {
   "cell_type": "code",
   "execution_count": 32,
   "metadata": {},
   "outputs": [
    {
     "data": {
      "text/plain": [
       "Text(0.5, 1, 'Heat Map of Confusion Matrix 1')"
      ]
     },
     "execution_count": 32,
     "metadata": {},
     "output_type": "execute_result"
    },
    {
     "data": {
      "image/png": "[encoded data removed]",
      "text/plain": [
       "<Figure size 1440x576 with 2 Axes>"
      ]
     },
     "metadata": {
      "needs_background": "light"
     },
     "output_type": "display_data"
    }
   ],
   "source": [
    "# Confusion Matrix Configurations\n",
    "fig = plt.figure(figsize=(20,8))\n",
    "ax1 = fig.add_subplot(131)\n",
    "#ax2 = fig.add_subplot(132)\n",
    "\n",
    "# Names For Index of Confusion Matrix\n",
    "trueClassName = ['True Safe Trip', 'True Dangerous Trip']\n",
    "\n",
    "# Names For Column of Confusion Matrix\n",
    "PredClassName = ['Predicted Safe Trip', 'Predicted Dangerous Trip']\n",
    "\n",
    "# Computation of Confusion Matrix 1\n",
    "confMatrx1 = confusion_matrix(y_test, y_hat)\n",
    "\n",
    "# Computation of Confusion Matrix 2\n",
    "#confMatrx2 = confusion_matrix(y_test, y_hat2)\n",
    "\n",
    "# Establishment of Dataframe of Confusion Matrix 1\n",
    "confMatrxDataFrame1 = pd.DataFrame(confMatrx1, index = trueClassName, columns = PredClassName)\n",
    "\n",
    "# Establishment of Dataframe of Confusion Matrix 2\n",
    "#confMatrxDataFrame1 = pd.DataFrame(confMatrx2, index = trueClassName, columns = PredClassName)\n",
    "\n",
    "# Display of Confusion Matrix 1 - Number Format \n",
    "sns.heatmap(confMatrxDataFrame1, annot = True, fmt='d', ax=ax1).set_title('Heat Map of Confusion Matrix 1')\n",
    "\n",
    "# Display of Confusion Matrix 1 - Number Format \n",
    "#sns.heatmap(confMatrxDataFrame2, annot = True, fmt='d', ax=ax2).set_title('Heat Map of Confusion Matrix 2')"
   ]
  },
  {
   "cell_type": "markdown",
   "metadata": {},
   "source": [
    "## Exportation Of Machine Model"
   ]
  },
  {
   "cell_type": "code",
   "execution_count": 33,
   "metadata": {},
   "outputs": [],
   "source": [
    "# Creation of The Machine Models Folder\n",
    "filename = \"../Machine Model\"\n",
    "os.makedirs(filename, exist_ok=True)"
   ]
  },
  {
   "cell_type": "code",
   "execution_count": 34,
   "metadata": {},
   "outputs": [
    {
     "name": "stdout",
     "output_type": "stream",
     "text": [
      "Exported Machine Model To Current Directory\n"
     ]
    }
   ],
   "source": [
    "# Exportation of Machine Learning Model\n",
    "joblib.dump(machineModel, \"../Machine Model/MachineModel.pkl\")\n",
    "print(\"Exported Machine Model To Machine Model Folder\")"
   ]
  },
  {
   "cell_type": "code",
   "execution_count": null,
   "metadata": {},
   "outputs": [],
   "source": []
  }
 ],
 "metadata": {
  "kernelspec": {
   "display_name": "Python 3",
   "language": "python",
   "name": "python3"
  },
  "language_info": {
   "codemirror_mode": {
    "name": "ipython",
    "version": 3
   },
   "file_extension": ".py",
   "mimetype": "text/x-python",
   "name": "python",
   "nbconvert_exporter": "python",
   "pygments_lexer": "ipython3",
   "version": "3.7.6"
  }
 },
 "nbformat": 4,
 "nbformat_minor": 4
}
